{
 "cells": [
  {
   "cell_type": "code",
   "execution_count": null,
   "id": "6d973d4c-b1db-4f8b-82a2-e64990c07776",
   "metadata": {},
   "outputs": [],
   "source": [
    "from pathlib import Path\n",
    "\n",
    "import numpy as np\n",
    "\n",
    "from astropy.coordinates import SkyCoord\n",
    "from astropy.table import Table\n",
    "from astropy.time import Time\n",
    "from astropy.timeseries import TimeSeries\n",
    "\n",
    "from matplotlib import pyplot as plt\n",
    "\n",
    "from stellarphot.differential_photometry import vsx_mags\n"
   ]
  },
  {
   "cell_type": "code",
   "execution_count": null,
   "id": "294fa9a6-5522-414b-ad96-73da98cb3eea",
   "metadata": {},
   "outputs": [],
   "source": [
    "folder_with_files = '.'\n",
    "\n",
    "your_photometry_file = 'some_name.csv'\n",
    "comp_stars_file = 'apass-V0533-Her.csv'\n",
    "name_of_variable = 'v0533 her'\n",
    "\n",
    "# Enter the check star label (2 or 3 digit number) below \n",
    "check_star_label = '153'\n",
    "\n",
    "# Our filter names vs filter names in comparison star table\n",
    "filter_mapping = dict(\n",
    "    ip='SI',\n",
    "    B='B'\n",
    ")"
   ]
  },
  {
   "cell_type": "code",
   "execution_count": null,
   "id": "ef5cce53-08f1-4de5-9814-23be33285f5b",
   "metadata": {},
   "outputs": [],
   "source": [
    "p = Path(folder_with_files)\n",
    "your_photometry_file = p / your_photometry_file\n",
    "comp_stars_file = p / comp_stars_file"
   ]
  },
  {
   "cell_type": "code",
   "execution_count": null,
   "id": "110085f6-4c91-4e55-9ced-fb64936acf69",
   "metadata": {},
   "outputs": [],
   "source": [
    "var_coord = SkyCoord.from_name(name_of_variable)\n",
    "\n",
    "vc = dict(coords=var_coord)"
   ]
  },
  {
   "cell_type": "code",
   "execution_count": null,
   "id": "7cd3031f-59ef-4b21-bad9-0075fc9b679a",
   "metadata": {},
   "outputs": [],
   "source": [
    "your_photometry = Table.read(your_photometry_file)\n",
    "your_photometry['RA'].unit = 'degree'\n",
    "your_photometry['Dec'].unit = 'degree'\n",
    "\n",
    "your_photometry['band'] = your_photometry['filter']\n",
    "\n",
    "comp_stars = Table.read(comp_stars_file)\n",
    "comp_stars['RAJ2000'].unit = 'degree'\n",
    "comp_stars['DEJ2000'].unit = 'degree'\n",
    "\n"
   ]
  },
  {
   "cell_type": "code",
   "execution_count": null,
   "id": "cdab5216-9a6a-4db4-8508-f5e0b5dd0ece",
   "metadata": {},
   "outputs": [],
   "source": [
    "comp_stars_check_only = comp_stars[comp_stars['label'] == int(check_star_label)]\n",
    "check_star_auid = comp_stars_check_only['auid'][0]"
   ]
  },
  {
   "cell_type": "code",
   "execution_count": null,
   "id": "aa43ad37-6ef2-4d29-b1cd-2b1652ac8ec9",
   "metadata": {},
   "outputs": [],
   "source": [
    "comp_stars_no_check = comp_stars[comp_stars['auid'] != check_star_auid]"
   ]
  },
  {
   "cell_type": "markdown",
   "id": "23411fe8-7cd2-455d-ac74-058ec5df9c37",
   "metadata": {},
   "source": [
    "## The cell below does just one filter..."
   ]
  },
  {
   "cell_type": "code",
   "execution_count": null,
   "id": "77fd8792-f47b-41ef-a489-f82f05b4d68f",
   "metadata": {},
   "outputs": [],
   "source": [
    "this_filter = 'ip'\n",
    "\n",
    "this_phot = your_photometry[your_photometry['band'] == this_filter]\n",
    "                                                                                                                                                                                                                                                                                                                                                                                              \n",
    "this_phot_grp = this_phot.group_by('BJD')\n",
    "\n",
    "airmass = []\n",
    "times = []\n",
    "cal_mag = []\n",
    "cal_mag_err = []\n",
    "for time, rows in zip(this_phot_grp.groups.keys, this_phot_grp.groups):\n",
    "    mag, err = vsx_mags.calc_vmag(vc, rows, comp_stars_no_check, band=filter_mapping[this_filter], star_data_mag_column=f'mag_inst')\n",
    "    cal_mag.append(mag)\n",
    "    cal_mag_err.append(err)\n",
    "    times.append(time[0])\n",
    "    airmass.append(rows['airmass'][0])\n",
    "    "
   ]
  },
  {
   "cell_type": "code",
   "execution_count": null,
   "id": "cc814ba5-d71d-46ce-924c-3f0889b27729",
   "metadata": {},
   "outputs": [],
   "source": [
    "table = Table(data=[times, cal_mag, cal_mag_err, airmass], names=['time', 'mag', 'err', 'airmass'])\n",
    "table['day']  = [np.floor(bjd) for bjd in table['time']]\n",
    "\n",
    "table = table.group_by('day')\n",
    "\n",
    "table_grouped = table"
   ]
  },
  {
   "cell_type": "code",
   "execution_count": null,
   "id": "c2564919-46e9-4ce9-b6ec-a4dbf04a1a41",
   "metadata": {},
   "outputs": [],
   "source": [
    "for group in table_grouped.groups: \n",
    "    time0 = group['time'][0]\n",
    "    plt.plot(label = group['day'])\n",
    "    plt.errorbar(group['time']-time0,group['mag'], yerr=group['err'], fmt = 's', label = f'{time0:.2f}')\n",
    "plt.grid()\n",
    "plt.ylabel('Magnitude')\n",
    "plt.xlabel('Time since begining of observation (Days)')\n",
    "plt.legend()\n",
    "plt.ylim(*plt.ylim()[::-1])\n"
   ]
  },
  {
   "cell_type": "code",
   "execution_count": null,
   "id": "3498a8bc-c6d3-4cc5-be08-bdb3e1ccd3c1",
   "metadata": {},
   "outputs": [],
   "source": [
    "check = comp_stars[comp_stars['auid'] == check_star_auid]\n",
    "check_coord = SkyCoord(ra=check['RAJ2000'][0], dec=check['DEJ2000'][0], unit='degree')"
   ]
  },
  {
   "cell_type": "code",
   "execution_count": null,
   "id": "255bdf25-44c4-43f4-85c3-36d2c8a787e0",
   "metadata": {},
   "outputs": [],
   "source": [
    "your_coords = SkyCoord(ra=your_photometry['RA'], dec=your_photometry['Dec'])"
   ]
  },
  {
   "cell_type": "code",
   "execution_count": null,
   "id": "65d3dab3-c4bd-4206-8773-2dfa274df0be",
   "metadata": {},
   "outputs": [],
   "source": [
    "kc = dict(coords=check_coord)\n",
    "\n",
    "airmass_k = []\n",
    "times_k = []\n",
    "cal_mag_k = []\n",
    "cal_mag_err_k = []\n",
    "for time, rows in zip(this_phot_grp.groups.keys, this_phot_grp.groups):\n",
    "    mag, err = vsx_mags.calc_vmag(kc, rows, comp_stars_no_check, band=filter_mapping[this_filter], star_data_mag_column=f'mag_inst')\n",
    "    cal_mag_k.append(mag)\n",
    "    cal_mag_err_k.append(err)\n",
    "    times_k.append(time[0])\n",
    "    airmass_k.append(rows['airmass'][0])\n",
    "    \n",
    "assert times_k == times"
   ]
  },
  {
   "cell_type": "code",
   "execution_count": null,
   "id": "811274f8-5138-4d51-9b47-217f7f40b956",
   "metadata": {},
   "outputs": [],
   "source": [
    "table_k = Table(data=[times_k, cal_mag_k, cal_mag_err_k, airmass_k], names=['time', 'mag', 'err', 'airmass'])\n",
    "table_k['day']  = table['day']\n",
    "\n",
    "table_k = table_k.group_by('day')\n",
    "\n",
    "table_grouped_k = table_k"
   ]
  },
  {
   "cell_type": "code",
   "execution_count": null,
   "id": "ec9f67a5-b11b-4509-a135-5bafc4f152a4",
   "metadata": {},
   "outputs": [],
   "source": [
    "for group in table_grouped_k.groups: \n",
    "    time0 = group['time'][0]\n",
    "    plt.plot(label = group['day'])\n",
    "    plt.errorbar(group['time']-time0,group['mag'], yerr=group['err'], fmt = 's', label = f'{time0:.2f}')\n",
    "plt.grid()\n",
    "plt.ylabel('Magnitude')\n",
    "plt.xlabel('Time since begining of observation (Days)')\n",
    "plt.title('Check star')\n",
    "plt.legend()\n",
    "plt.ylim(15.2, 14.7)\n"
   ]
  },
  {
   "cell_type": "code",
   "execution_count": null,
   "id": "9d78f9e7-d00d-4905-b376-d9e7a1dbf56f",
   "metadata": {},
   "outputs": [],
   "source": []
  }
 ],
 "metadata": {
  "kernelspec": {
   "display_name": "Python 3 (ipykernel)",
   "language": "python",
   "name": "python3"
  },
  "language_info": {
   "codemirror_mode": {
    "name": "ipython",
    "version": 3
   },
   "file_extension": ".py",
   "mimetype": "text/x-python",
   "name": "python",
   "nbconvert_exporter": "python",
   "pygments_lexer": "ipython3",
   "version": "3.10.6"
  }
 },
 "nbformat": 4,
 "nbformat_minor": 5
}
