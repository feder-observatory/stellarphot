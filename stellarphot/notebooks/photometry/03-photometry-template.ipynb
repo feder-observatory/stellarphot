{
 "cells": [
  {
   "cell_type": "code",
   "execution_count": null,
   "metadata": {},
   "outputs": [],
   "source": [
    "from pathlib import Path\n",
    "\n",
    "import numpy as np\n",
    "\n",
    "from ipyfilechooser import FileChooser\n",
    "\n",
    "from astropy.nddata import CCDData\n",
    "from astropy.coordinates import SkyCoord, EarthLocation\n",
    "from astropy.table import Table\n",
    "from astropy.time import Time\n",
    "\n",
    "from stellarphot.photometry import *\n",
    "from stellarphot.source_detection import *\n",
    "from stellarphot import Camera\n",
    "\n",
    "from stellarphot.visualization.photometry_widget_functions import PhotometrySettings"
   ]
  },
  {
   "cell_type": "markdown",
   "metadata": {},
   "source": [
    "## Settings are below "
   ]
  },
  {
   "cell_type": "code",
   "execution_count": null,
   "metadata": {},
   "outputs": [],
   "source": [
    "ps = PhotometrySettings()\n",
    "ps.box"
   ]
  },
  {
   "cell_type": "code",
   "execution_count": null,
   "metadata": {},
   "outputs": [],
   "source": [
    "# A single dot means \"the folder this notebook is in\"\n",
    "folder_with_images = ps.image_folder # '.'\n",
    "\n",
    "# The file name below should be the one you made with the comp-star template\n",
    "# Its name should end .fits\n",
    "source_file_name = ps.aperture_locations # 'aperture_locations.fits'\n",
    "\n",
    "# Enter the aperture radius from the viewer seeing template here\n",
    "aperture = ps.aperture_radius\n",
    "\n",
    "# Enter the object name here\n",
    "object_name = ps.object_name\n",
    "\n",
    "# Enter date data was taken here\n",
    "date = ps.ifc.summary['date-obs'][0].split('T')[0]\n",
    "\n",
    "# Enter the name you want to give the photometry file, i.e. the file with star counts, here\n",
    "photometry_file = f'{object_name}-{date}.csv'"
   ]
  },
  {
   "cell_type": "markdown",
   "metadata": {},
   "source": [
    "### More settings (no need to change these typically)"
   ]
  },
  {
   "cell_type": "code",
   "execution_count": null,
   "metadata": {},
   "outputs": [],
   "source": [
    "inner_annulus = aperture + 15\n",
    "outer_annulus = inner_annulus + 15\n",
    "\n",
    "feder_cg_16m = Camera(gain=1.5, read_noise=10.0, dark_current=0.01)\n",
    "\n",
    "max_adu = 50000"
   ]
  },
  {
   "cell_type": "code",
   "execution_count": null,
   "metadata": {},
   "outputs": [],
   "source": [
    "image_directory = Path(folder_with_images)"
   ]
  },
  {
   "cell_type": "code",
   "execution_count": null,
   "metadata": {},
   "outputs": [],
   "source": [
    "sources = Table.read(source_file_name)"
   ]
  },
  {
   "cell_type": "code",
   "execution_count": null,
   "metadata": {},
   "outputs": [],
   "source": [
    "sources['coord'] = SkyCoord(ra=[c.split(',')[0] for c in sources['coord']],\n",
    "                            dec=[c.split(',')[1] for c in sources['coord']],\n",
    "                            unit='degree',\n",
    "                            frame='icrs')\n",
    "star_ra = sources['coord'].ra\n",
    "star_dec = sources['coord'].dec\n",
    "\n",
    "main_target_coords = sources[sources['star_id'] == 1]['coord']"
   ]
  },
  {
   "cell_type": "code",
   "execution_count": null,
   "metadata": {},
   "outputs": [],
   "source": [
    "photometry_table = photometry_on_directory(\n",
    "                        image_directory, object_name, \n",
    "                        (star_ra, star_dec), \n",
    "                        aperture, inner_annulus, outer_annulus, \n",
    "                        max_adu, sources['star_id'], \n",
    "                        feder_cg_16m,\n",
    "                        observatory_location='feder',\n",
    "                        bjd_coords=main_target_coords,\n",
    "                        fwhm_by_fit=False                \n",
    "                    )"
   ]
  },
  {
   "cell_type": "code",
   "execution_count": null,
   "metadata": {},
   "outputs": [],
   "source": [
    "photometry_table.write(photometry_file)"
   ]
  },
  {
   "cell_type": "code",
   "execution_count": null,
   "metadata": {},
   "outputs": [],
   "source": []
  }
 ],
 "metadata": {
  "kernelspec": {
   "display_name": "Python 3 (ipykernel)",
   "language": "python",
   "name": "python3"
  },
  "language_info": {
   "codemirror_mode": {
    "name": "ipython",
    "version": 3
   },
   "file_extension": ".py",
   "mimetype": "text/x-python",
   "name": "python",
   "nbconvert_exporter": "python",
   "pygments_lexer": "ipython3",
   "version": "3.10.6"
  }
 },
 "nbformat": 4,
 "nbformat_minor": 4
}
