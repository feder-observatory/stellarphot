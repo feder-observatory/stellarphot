{
 "cells": [
  {
   "cell_type": "code",
   "execution_count": null,
   "metadata": {
    "tags": []
   },
   "outputs": [],
   "source": [
    "from itertools import product\n",
    "import pickle\n",
    "\n",
    "import ipywidgets as ipw\n",
    "import numpy as np\n",
    "\n",
    "from matplotlib import pyplot as plt\n",
    "from astropy.table import Table\n",
    "\n",
    "from stellarphot.analysis.transit_fitting import TransitModelFit\n",
    "from stellarphot.visualization.transit_plots import *\n",
    "from stellarphot.visualization.fits_opener import FitsOpener\n",
    "\n",
    "from astropy.timeseries import BinnedTimeSeries, TimeSeries, aggregate_downsample\n",
    "from astropy.time import Time\n",
    "from astropy.table import Table \n",
    "from astropy import units as u"
   ]
  },
  {
   "cell_type": "markdown",
   "metadata": {},
   "source": [
    "### 0. Get some data"
   ]
  },
  {
   "cell_type": "code",
   "execution_count": null,
   "metadata": {
    "tags": []
   },
   "outputs": [],
   "source": [
    "fo = FitsOpener(title=\"Select your photometry/flux file\", filter_pattern=[\"*.csv\", \"*.fits\"])\n",
    "fo2 = FitsOpener(title=\"Select your TESS info file\", filter_pattern=[\"*.pickle\"])\n",
    "passband = ipw.Dropdown(description=\"Filter\", options=['gp', 'ip'], disabled=True)\n",
    "box = ipw.VBox()\n",
    "\n",
    "def update_filter_list(change):\n",
    "    tab = Table.read(fo.path)['filter']\n",
    "    passband.options = sorted(set(tab))\n",
    "    passband.disabled = False\n",
    "    passband.value = passband.options[0]\n",
    "    \n",
    "fo.register_callback(update_filter_list)\n",
    "box.children = [fo.file_chooser, fo2.file_chooser, passband]\n",
    "box"
   ]
  },
  {
   "cell_type": "code",
   "execution_count": null,
   "metadata": {
    "tags": []
   },
   "outputs": [],
   "source": [
    "# 👉 File with photometry, including flux\n",
    "photometry_file = fo.path\n",
    "\n",
    "# 👉 File with exoplanet info in\n",
    "tess_info_output_file = fo2.path\n",
    "\n",
    "phot_filter = passband.value"
   ]
  },
  {
   "cell_type": "code",
   "execution_count": null,
   "metadata": {
    "tags": []
   },
   "outputs": [],
   "source": [
    "phot_filter"
   ]
  },
  {
   "cell_type": "markdown",
   "metadata": {},
   "source": [
    "### 👇👇👇 use this to exclude some data (only if needed!) 👇👇👇"
   ]
  },
  {
   "cell_type": "code",
   "execution_count": null,
   "metadata": {},
   "outputs": [],
   "source": [
    "use_no_data_before = Time(2450000, format='jd', scale='tdb')\n",
    "\n",
    "use_no_data_between = [\n",
    "    [\n",
    "        Time(2450000, format='jd', scale='tdb'),\n",
    "        Time(2440000, format='jd', scale='tdb')\n",
    "    ]\n",
    "]\n",
    "\n",
    "use_no_data_after = Time(2499999, format='jd', scale='tdb')"
   ]
  },
  {
   "cell_type": "code",
   "execution_count": null,
   "metadata": {
    "tags": []
   },
   "outputs": [],
   "source": [
    "photometry = Table.read(photometry_file)\n",
    "\n",
    "with open(tess_info_output_file, 'rb') as f:\n",
    "    tess_info = pickle.load(f)"
   ]
  },
  {
   "cell_type": "code",
   "execution_count": null,
   "metadata": {},
   "outputs": [],
   "source": [
    "phot_times = Time(photometry['BJD'], format='jd', scale='tdb')\n",
    "\n",
    "n_dropped = 0\n",
    "\n",
    "bad_data = phot_times < use_no_data_before\n",
    "\n",
    "n_dropped = bad_data.sum()\n",
    "\n",
    "if n_dropped > 0:\n",
    "    print(f'👉👉👉👉 Dropping {n_dropped} data points before BJD {use_no_data_before}')\n",
    "    \n",
    "bad_data = bad_data | ((use_no_data_between[0][0] < phot_times) & (phot_times < use_no_data_between[0][1]))\n",
    "\n",
    "new_dropped = bad_data.sum() - n_dropped\n",
    "\n",
    "if new_dropped:\n",
    "    print(f'👉👉👉👉 Dropping {new_dropped} data points between BJD {use_no_data_between[0][0]} and {use_no_data_between[0][1]}')\n",
    "    \n",
    "n_dropped += new_dropped\n",
    "\n",
    "bad_data = bad_data | (phot_times > use_no_data_after)\n",
    "\n",
    "new_dropped = bad_data.sum() - n_dropped\n",
    "\n",
    "if new_dropped:\n",
    "    print(f'👉👉👉👉 Dropping {new_dropped} data points after BJD {use_no_data_after}')\n",
    "    \n",
    "n_dropped += new_dropped\n",
    "\n",
    "photometry = photometry[~bad_data]"
   ]
  },
  {
   "cell_type": "markdown",
   "metadata": {},
   "source": [
    "### You may need to alter some of the settings here"
   ]
  },
  {
   "cell_type": "code",
   "execution_count": null,
   "metadata": {
    "tags": []
   },
   "outputs": [],
   "source": [
    "# These affect the fitting that is done\n",
    "\n",
    "#bin size in minutes\n",
    "bin_size = 5 * u.min\n",
    "\n",
    "# Keep the time of transit fixed?\n",
    "keep_fixed_transit_time = True\n",
    "transit_time_range = 60 * u.min\n",
    "\n",
    "# Keep radius of planet fixed?\n",
    "\n",
    "keep_fixed_radius_planet = False\n",
    "\n",
    "# Keep radius of orbit fixed?\n",
    "\n",
    "keep_fixed_radius_orbit = False\n",
    "\n",
    "# Remove effects of airmas?\n",
    "fit_airmass = False\n",
    "\n",
    "# Remove effects of sky background?\n",
    "fit_spp = False\n",
    "\n",
    "# Remove effects of change in focus?\n",
    "fit_width = False\n"
   ]
  },
  {
   "cell_type": "code",
   "execution_count": null,
   "metadata": {
    "tags": []
   },
   "outputs": [],
   "source": [
    "# Enter your object's period here\n",
    "period = tess_info.period\n",
    "\n",
    "# Enter the epoch here\n",
    "epoch = tess_info.epoch  # Time(2458761.602894, scale='tdb', format='jd')\n",
    "\n",
    "# Enter the duration below\n",
    "duration = tess_info.duration\n",
    "\n",
    "# Enter the transit depth here -- get the \"ppm\" value from ExoFOP-TESS\n",
    "depth = tess_info.depth\n",
    "\n",
    "# Enter object name\n",
    "obj = 'TIC ' + tess_info.tic_id"
   ]
  },
  {
   "cell_type": "code",
   "execution_count": null,
   "metadata": {
    "tags": []
   },
   "outputs": [],
   "source": [
    "# These affect spacing of lines on final plot\n",
    "high = 1.06\n",
    "low = 0.82\n",
    "scale = 0.15 * (high - low)\n",
    "shift = -.72 * (high - low)"
   ]
  },
  {
   "cell_type": "code",
   "execution_count": null,
   "metadata": {
    "tags": []
   },
   "outputs": [],
   "source": [
    "target_star = photometry['id'] == 1\n",
    "\n",
    "# No changes to the line below, it is grabbing the first time in the data series\n",
    "then = Time(photometry['BJD'][target_star][0], scale='tdb', format='jd')\n",
    "\n",
    "date_obs = photometry['date-obs'][target_star][0]\n",
    "exposure_time = photometry['exposure'][target_star][0]"
   ]
  },
  {
   "cell_type": "markdown",
   "metadata": {},
   "source": [
    "Looks like we need to normalize the data first....."
   ]
  },
  {
   "cell_type": "code",
   "execution_count": null,
   "metadata": {
    "tags": []
   },
   "outputs": [],
   "source": [
    "band_filter = photometry['filter'] == phot_filter\n",
    "\n",
    "target_and_filter = target_star & band_filter"
   ]
  },
  {
   "cell_type": "code",
   "execution_count": null,
   "metadata": {
    "tags": []
   },
   "outputs": [],
   "source": [
    "photometry = photometry[target_and_filter]"
   ]
  },
  {
   "cell_type": "code",
   "execution_count": null,
   "metadata": {
    "tags": []
   },
   "outputs": [],
   "source": [
    "photometry"
   ]
  },
  {
   "cell_type": "code",
   "execution_count": null,
   "metadata": {
    "tags": []
   },
   "outputs": [],
   "source": [
    "cycle_number = int((then - epoch) / period + 1)\n",
    "that_transit = cycle_number * period + epoch\n",
    "that_transit"
   ]
  },
  {
   "cell_type": "code",
   "execution_count": null,
   "metadata": {
    "tags": []
   },
   "outputs": [],
   "source": [
    "start = that_transit - duration / 2\n",
    "mid = that_transit\n",
    "end = that_transit + duration / 2\n",
    "\n",
    "after_transit = (photometry['BJD'] - 2400000) > end.jd\n",
    "\n",
    "outside_transit = (photometry['BJD'] < start.jd) | (photometry['BJD'] > end.jd)\n",
    "\n",
    "normalization_factor = np.nanmean(1 / photometry['relative_flux'][outside_transit])\n",
    "normalized_flux = photometry['relative_flux'] * normalization_factor"
   ]
  },
  {
   "cell_type": "markdown",
   "metadata": {},
   "source": [
    "### Bin Data\n",
    "\n",
    "Need\n",
    "* data table\n",
    "* start\n",
    "* end\n",
    "* bin_size"
   ]
  },
  {
   "cell_type": "code",
   "execution_count": null,
   "metadata": {
    "tags": []
   },
   "outputs": [],
   "source": [
    "t_ob = Time(photometry['BJD'], scale='tdb', format='jd')\n",
    "ts = TimeSeries([normalized_flux, photometry['airmass'], photometry['xcenter'], photometry['sky_per_pix_avg'], photometry['width']], time=t_ob)\n",
    "ts2 = TimeSeries([normalization_factor * photometry['relative_flux_error']], time=t_ob)\n",
    "\n",
    "first_time =  photometry['BJD'][0] - 2400000\n",
    "last_time = photometry['BJD'][-1] - 2400000\n",
    "\n",
    "def add_quad(x):\n",
    "    try:\n",
    "        n = len(x)\n",
    "    except TypeError:\n",
    "        n = 1\n",
    "    return np.sqrt(np.nansum(x**2)) / n\n",
    "\n",
    "binned = aggregate_downsample(ts, time_bin_size=bin_size)\n",
    "binned2 = aggregate_downsample(ts2, time_bin_size=bin_size, aggregate_func=add_quad)\n",
    "\n",
    "#binned_time = BinnedTimeSeries(photometry['BJD'], time_bin_start=first_time, time_bin_end=last_time, time_bin_size=bin_size)"
   ]
  },
  {
   "cell_type": "markdown",
   "metadata": {},
   "source": [
    "### 1. Create the model object"
   ]
  },
  {
   "cell_type": "code",
   "execution_count": null,
   "metadata": {},
   "outputs": [],
   "source": [
    "mod = TransitModelFit()"
   ]
  },
  {
   "cell_type": "markdown",
   "metadata": {},
   "source": [
    "### 2. Load some data\n",
    "\n",
    "Here we will just load times and normalized flux. You can also set width, spp (sky per pixel) and airmass. The only two that must be set are times and flux.\n",
    "\n",
    "If you have set `mod.spp`, `mod.width` or `mod.airmass` then those things will be included in the fit. Otherwise, they are ignored.\n",
    "\n",
    "THE WEIGHTS ARE IMPORTANT TO INCLUDE"
   ]
  },
  {
   "cell_type": "code",
   "execution_count": null,
   "metadata": {},
   "outputs": [],
   "source": [
    "not_empty = ~np.isnan(binned['relative_flux'])\n",
    "\n",
    "mod.times = (np.array(binned['time_bin_start'].value) - 2400000)[not_empty]\n",
    "mod.data = binned['relative_flux'].value[not_empty]\n",
    "mod.weights = 1 / (binned2['relative_flux_error'].value)[not_empty]\n",
    "\n"
   ]
  },
  {
   "cell_type": "markdown",
   "metadata": {},
   "source": [
    "### 3. Set up the model\n",
    "\n",
    "You should be able to get the parameters for this from TTF. There are more parameters you can set; `shift-Tab` in the arguments to pull up the docstring, which lists and explains them all."
   ]
  },
  {
   "cell_type": "code",
   "execution_count": null,
   "metadata": {},
   "outputs": [],
   "source": [
    "mod.setup_model(t0=mid.jd - 2400000,         # midpoint, BJD\n",
    "                depth=depth,       # parts per thousand\n",
    "                duration=duration.to('day').value,  # days\n",
    "                period=period.to('day').value,    # days\n",
    "               )"
   ]
  },
  {
   "cell_type": "markdown",
   "metadata": {},
   "source": [
    "### 3.25 Set up airmass, etc"
   ]
  },
  {
   "cell_type": "code",
   "execution_count": null,
   "metadata": {},
   "outputs": [],
   "source": [
    "mod.airmass = np.array(binned['airmass'])[not_empty]\n",
    "mod.width = np.array(binned['width'])[not_empty]\n",
    "mod.spp = np.array(binned['sky_per_pix_avg'])[not_empty]"
   ]
  },
  {
   "cell_type": "markdown",
   "metadata": {},
   "source": [
    "### 3.5 Constrain the fits if you want\n",
    "\n",
    "#### Exoplanet parameters"
   ]
  },
  {
   "cell_type": "code",
   "execution_count": null,
   "metadata": {},
   "outputs": [],
   "source": [
    "mod.model.t0.bounds = [mid.jd - 2400000 - transit_time_range.to('day').value/2, mid.jd - 2400000 + transit_time_range.to('day').value/2]\n",
    "mod.model.t0.fixed = keep_fixed_transit_time\n",
    "mod.model.a.fixed = keep_fixed_radius_orbit\n",
    "mod.model.rp.fixed = keep_fixed_radius_planet\n",
    "\n"
   ]
  },
  {
   "cell_type": "markdown",
   "metadata": {},
   "source": [
    "#### Detrending parameters"
   ]
  },
  {
   "cell_type": "code",
   "execution_count": null,
   "metadata": {},
   "outputs": [],
   "source": [
    "mod.model.spp_trend.fixed = not fit_spp\n",
    "mod.model.airmass_trend.fixed = not fit_airmass\n",
    "mod.model.width_trend.fixed = not fit_width"
   ]
  },
  {
   "cell_type": "code",
   "execution_count": null,
   "metadata": {},
   "outputs": [],
   "source": [
    "detrended_by = []\n",
    "if fit_airmass:\n",
    "    detrended_by.append('Airmass')\n",
    "\n",
    "if fit_spp:\n",
    "    detrended_by.append('SPP')\n",
    "\n",
    "if fit_width:\n",
    "    detrended_by.append('Wdith')\n",
    "\n",
    "detrended_by = (\"Detrended by: \" + \",\".join(detrended_by)) if detrended_by else \"No detrending\"\n",
    "        "
   ]
  },
  {
   "cell_type": "markdown",
   "metadata": {},
   "source": [
    "### 4. Run the fit"
   ]
  },
  {
   "cell_type": "code",
   "execution_count": null,
   "metadata": {},
   "outputs": [],
   "source": [
    "mod.fit()"
   ]
  },
  {
   "cell_type": "markdown",
   "metadata": {},
   "source": [
    "### 5. Let's try a plot...."
   ]
  },
  {
   "cell_type": "code",
   "execution_count": null,
   "metadata": {},
   "outputs": [],
   "source": [
    "plt.plot(mod.times, mod.data, '.')\n",
    "plt.plot(mod.times, mod.model_light_curve())\n",
    "plt.vlines(start.jd - 2400000, 0.98, 1.02, colors='r', linestyle='--', alpha=0.5)\n",
    "plt.vlines(end.jd - 2400000, 0.98, 1.02, colors='r', linestyle='--', alpha=0.5)\n",
    "plt.title('Data and fit')\n",
    "plt.grid()"
   ]
  },
  {
   "cell_type": "code",
   "execution_count": null,
   "metadata": {},
   "outputs": [],
   "source": [
    "mod.model"
   ]
  },
  {
   "cell_type": "code",
   "execution_count": null,
   "metadata": {},
   "outputs": [],
   "source": [
    "# mod._fitter.fit_info"
   ]
  },
  {
   "cell_type": "code",
   "execution_count": null,
   "metadata": {},
   "outputs": [],
   "source": [
    "flux_full_detrend = mod.data_light_curve(detrend_by='all') \n",
    "flux_full_detrend_model = mod.model_light_curve(detrend_by='all') "
   ]
  },
  {
   "cell_type": "code",
   "execution_count": null,
   "metadata": {},
   "outputs": [],
   "source": [
    "rel_detrended_flux = flux_full_detrend / np.mean(flux_full_detrend)\n",
    "\n",
    "rel_detrended_flux_rms = np.std(rel_detrended_flux)\n",
    "rel_model_rms = np.std(flux_full_detrend_model - rel_detrended_flux)\n",
    "\n",
    "rel_flux_rms = np.std(mod.data)"
   ]
  },
  {
   "cell_type": "code",
   "execution_count": null,
   "metadata": {},
   "outputs": [],
   "source": [
    "airmass = photometry['airmass'] / np.mean(photometry['airmass'])\n",
    "x = photometry['xcenter'] / np.mean(photometry['xcenter'])\n",
    "y = photometry['ycenter'] / np.mean(photometry['ycenter'])\n",
    "comp_counts = photometry['comparison counts'] / np.mean(photometry['comparison counts'])\n",
    "sky_per_pix = photometry['sky_per_pix_avg'] / np.mean(photometry['sky_per_pix_avg'])\n",
    "width = photometry['width'] / np.mean(photometry['width'])"
   ]
  },
  {
   "cell_type": "code",
   "execution_count": null,
   "metadata": {},
   "outputs": [],
   "source": [
    "scale_airmass = scale_and_shift(airmass, scale, 0.75 * shift, pos=False)\n",
    "scale_x = scale_and_shift(x, scale, shift, pos=True)\n",
    "scale_y = scale_and_shift(y, scale, shift, pos=True)\n",
    "scale_sky_pix = scale_and_shift(sky_per_pix, scale, shift, pos=True)\n",
    "scale_counts = scale_and_shift(comp_counts, scale, shift, pos=True)\n",
    "scale_width = scale_and_shift(width, scale, shift, pos=True)"
   ]
  },
  {
   "cell_type": "code",
   "execution_count": null,
   "metadata": {},
   "outputs": [],
   "source": [
    "grid_y_ticks = np.arange(low, high, 0.02)"
   ]
  },
  {
   "cell_type": "code",
   "execution_count": null,
   "metadata": {},
   "outputs": [],
   "source": [
    "#(RMS={rel_flux_rms:.5f})\n",
    "\n",
    "plt.figure(figsize=(8,11))\n",
    "fig, ax = plt.subplots(1, 1, figsize=(8, 11))\n",
    "\n",
    "plt.plot(photometry['BJD'] - 2400000, normalized_flux, 'b.', label=f\"rel_flux_T1 (RMS={rel_flux_rms:.5f})\", ms=4)\n",
    "\n",
    "plt.plot(mod.times, flux_full_detrend - 0.04, '.', c='r', ms=4,\n",
    "            label=f\"rel_flux_T1 ({detrended_by})(RMS={rel_detrended_flux_rms:.5f}), (bin size={bin_size} min)\")\n",
    "\n",
    "plt.plot(mod.times, flux_full_detrend - 0.08, '.', c='g', ms=4,\n",
    "            label=f\"rel_flux_T1 ({detrended_by} with transit fit)(RMS={rel_model_rms:.5f}), (bin size={bin_size})\")\n",
    "plt.plot(mod.times, flux_full_detrend_model - 0.08, c='g', ms=4,\n",
    "            label=f\"rel_flux_T1 Transit Model ([P={mod.model.period.value:.4f}], \"\n",
    "                  f\"(Rp/R*)^2={(mod.model.rp.value)**2:.4f}, \\na/R*={mod.model.a.value:.4f}, \"\n",
    "                  f\"[Tc={mod.model.t0.value + 2400000:.4f}], \"\n",
    "                  f\"[u1={mod.model.limb_u1.value:.1f}, u2={mod.model.limb_u2.value:.1f})\")\n",
    "\n",
    "plt.plot(photometry['BJD'] - 2400000, scale_counts, '.', c='brown', label='tot_C_cnts (arbitrarily scaled and shifted)', alpha=0.5, ms=4)\n",
    "plt.plot(photometry['BJD'] - 2400000, scale_airmass, 'c-', label=\"AIRMASS (arbitrarily scaled and shifted)\", ms=4)\n",
    "plt.plot(photometry['BJD'] - 2400000, scale_sky_pix, c='gold', label='Sky/Pixel_T1 (arbitrarily scaled and shifted)', ms=4)\n",
    "plt.plot(photometry['BJD'] - 2400000, scale_width, '-', c='gray', label=\"Width_T1 (arbitrarily scaled and shifted)\", ms=4)\n",
    "plt.plot(photometry['BJD'] - 2400000, scale_x, '-', c='pink', label=\"X(FITS)_T1 (arbitrarily scaled and shifted)\", ms=4)\n",
    "plt.plot(photometry['BJD'] - 2400000, scale_y, '-', c='lightblue', label=\"Y(FITS)_T1 (arbitrarily scaled and shifted)\", ms=4)\n",
    "\n",
    "\n",
    "plt.vlines(start.jd - 2400000, low, 1.025, colors='r', linestyle='--', alpha=0.5)\n",
    "plt.vlines(end.jd - 2400000, low, 1.025, colors='r', linestyle='--', alpha=0.5)\n",
    "plt.text(start.jd - 2400000, low+0.0005, f'Predicted\\nIngress\\n{start.jd-2400000-int(start.jd - 2400000):.3f}', horizontalalignment='center',c='r')\n",
    "plt.text(end.jd - 2400000, low+0.0005, f'Predicted\\nEgress\\n{end.jd-2400000-int(end.jd - 2400000):.3f}', horizontalalignment='center',c='r')\n",
    "\n",
    "# plt.vlines(start + 0.005, low, 1, colors='darkgray', linestyle='--', alpha=0.5)\n",
    "# plt.text(start + 0.005, low+0.001, f'Left\\n{start-int(start)+0.005:.3f}', horizontalalignment='center',c='darkgray')\n",
    "# plt.vlines(end - 0.005, low, 1, colors='darkgray', linestyle='--', alpha=0.5)\n",
    "# plt.text(end - 0.005, low+0.001, f'Rght\\n{end-int(end)-0.005:.3f}', horizontalalignment='center',c='darkgray')\n",
    "\n",
    "\n",
    "plt.ylim(low, high)\n",
    "plt.xlabel('Barycentric Julian Date (TDB)', fontname='Arial')\n",
    "plt.ylabel('Relative Flux (normalized)', fontname='Arial')\n",
    "plt.title(f'{obj}.01   UT{date_obs}\\nPaul P. Feder Observatory 0.4m ({phot_filter} filter, {exposure_time} exp, fap 10-25-40)', \n",
    "          fontsize=14, fontname='Arial')\n",
    "plt.legend(loc=\"upper center\", frameon=False, fontsize=8, bbox_to_anchor=(0.6, 1.0))\n",
    "ax.set_yticks(grid_y_ticks)\n",
    "plt.grid()\n",
    "\n",
    "plt.savefig(f'TIC{tess_info.tic_id}-01_20200701_Paul-P-Feder-0.4m_gp_lightcurve.png', facecolor='w')"
   ]
  },
  {
   "cell_type": "code",
   "execution_count": null,
   "metadata": {},
   "outputs": [],
   "source": [
    "mod.n_fit_parameters"
   ]
  },
  {
   "cell_type": "code",
   "execution_count": null,
   "metadata": {},
   "outputs": [],
   "source": [
    "mod._all_detrend_params"
   ]
  },
  {
   "cell_type": "code",
   "execution_count": null,
   "metadata": {},
   "outputs": [],
   "source": [
    "def evaluate_fits(mod):\n",
    "    BICs = []\n",
    "    settings = []\n",
    "    all_trendable = mod._all_detrend_params\n",
    "    tf_sequence = product([True, False], repeat=len(all_trendable))\n",
    "    for fixed in tf_sequence:\n",
    "        this_summary = []\n",
    "        for param, fix in zip(all_trendable, fixed):\n",
    "            trend_mod = getattr(mod.model, f\"{param}_trend\")\n",
    "            if fix:\n",
    "                setattr(mod.model, f\"{param}_trend\", 0.0)\n",
    "            trend_mod.fixed = fix\n",
    "            this_summary.append(f\"{param}: {not fix}\")\n",
    "\n",
    "        settings.append(', '.join(this_summary))\n",
    "        mod.fit()\n",
    "        BICs.append(mod.BIC)\n",
    "    return Table(data=[settings, BICs], names=['Fit this param?', 'BIC'])"
   ]
  },
  {
   "cell_type": "code",
   "execution_count": null,
   "metadata": {},
   "outputs": [],
   "source": [
    "bic_table = evaluate_fits(mod)\n",
    "bic_table.sort('BIC')\n",
    "bic_table"
   ]
  },
  {
   "cell_type": "code",
   "execution_count": null,
   "metadata": {},
   "outputs": [],
   "source": []
  }
 ],
 "metadata": {
  "kernelspec": {
   "display_name": "Python 3 (ipykernel)",
   "language": "python",
   "name": "python3"
  },
  "language_info": {
   "codemirror_mode": {
    "name": "ipython",
    "version": 3
   },
   "file_extension": ".py",
   "mimetype": "text/x-python",
   "name": "python",
   "nbconvert_exporter": "python",
   "pygments_lexer": "ipython3",
   "version": "3.10.6"
  }
 },
 "nbformat": 4,
 "nbformat_minor": 4
}
